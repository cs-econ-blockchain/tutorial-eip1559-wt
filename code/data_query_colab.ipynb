{
  "nbformat": 4,
  "nbformat_minor": 0,
  "metadata": {
    "colab": {
      "provenance": []
    },
    "kernelspec": {
      "name": "python3",
      "display_name": "Python 3"
    },
    "language_info": {
      "name": "python"
    }
  },
  "cells": [
    {
      "cell_type": "code",
      "source": [
        "!pip install -q kaggle"
      ],
      "metadata": {
        "id": "mjnKO9cYJTHa"
      },
      "execution_count": null,
      "outputs": []
    },
    {
      "cell_type": "code",
      "source": [
        "# For those who are interested in replicating this programme, please upload your credential json file that can be acquired from your Kaggle account in this section that enables you to access Kaggle dataset.\n",
        "from google.colab import files\n",
        "files.upload()"
      ],
      "metadata": {
        "id": "yvD8iWi0Joz-"
      },
      "execution_count": null,
      "outputs": []
    },
    {
      "cell_type": "code",
      "source": [
        "ls"
      ],
      "metadata": {
        "id": "-Cgb8e7WNMKO"
      },
      "execution_count": null,
      "outputs": []
    },
    {
      "cell_type": "code",
      "source": [
        "!mkdir ~/.kaggle"
      ],
      "metadata": {
        "id": "dPYqPmPXJqDZ"
      },
      "execution_count": null,
      "outputs": []
    },
    {
      "cell_type": "code",
      "source": [
        "!cp kaggle.json ~/.kaggle/"
      ],
      "metadata": {
        "id": "P8QYaT5tJq8w"
      },
      "execution_count": null,
      "outputs": []
    },
    {
      "cell_type": "code",
      "source": [
        "!chmod 600 ~/.kaggle/kaggle.json"
      ],
      "metadata": {
        "id": "l_8XL4j1JtGt"
      },
      "execution_count": null,
      "outputs": []
    },
    {
      "cell_type": "code",
      "source": [
        "# You can specify the data you would like to download (queried data, processed data) from Kaggle, more information about the datasets please refer to the GitHub page. You can either specify a csv or the whole dataset to download\n",
        "!kaggle datasets download -d sunshineluyaozhang/eip1559-waiting-time/'filter_2021070100 2021070200).csv'"
      ],
      "metadata": {
        "id": "y8GczCPOJurM"
      },
      "execution_count": null,
      "outputs": []
    },
    {
      "cell_type": "code",
      "source": [
        "!mkdir waiting_time"
      ],
      "metadata": {
        "id": "wlUDAztGJv3P"
      },
      "execution_count": null,
      "outputs": []
    },
    {
      "cell_type": "code",
      "source": [
        "!unzip eip1559-waiting-time.zip -d waiting_time"
      ],
      "metadata": {
        "id": "lOmjX6abJxJF"
      },
      "execution_count": null,
      "outputs": []
    }
  ]
}